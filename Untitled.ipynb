{
 "cells": [
  {
   "cell_type": "code",
   "execution_count": null,
   "id": "09e69b78-b4ad-4306-b46c-15cfdfc6f434",
   "metadata": {},
   "outputs": [],
   "source": [
    "Dan's Cell"
   ]
  },
  {
   "cell_type": "code",
   "execution_count": null,
   "id": "049a2031-feb4-4031-8ed5-2263dca22a82",
   "metadata": {},
   "outputs": [],
   "source": [
    "Javier's Cell"
   ]
  },
  {
   "cell_type": "code",
   "execution_count": null,
   "id": "69dc5b70-1c65-4036-b5ac-f50528ac78a4",
   "metadata": {},
   "outputs": [],
   "source": [
    "Kai's Cell"
   ]
  },
  {
   "cell_type": "code",
   "execution_count": null,
   "id": "04ac7aad-0961-4e8f-8d82-343387227e39",
   "metadata": {},
   "outputs": [],
   "source": [
    "Barish's Cell"
   ]
  }
 ],
 "metadata": {
  "kernelspec": {
   "display_name": "Python 3 (ipykernel)",
   "language": "python",
   "name": "python3"
  },
  "language_info": {
   "codemirror_mode": {
    "name": "ipython",
    "version": 3
   },
   "file_extension": ".py",
   "mimetype": "text/x-python",
   "name": "python",
   "nbconvert_exporter": "python",
   "pygments_lexer": "ipython3",
   "version": "3.7.11"
  }
 },
 "nbformat": 4,
 "nbformat_minor": 5
}
