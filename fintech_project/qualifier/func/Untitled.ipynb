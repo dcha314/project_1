{
 "cells": [
  {
   "cell_type": "code",
   "execution_count": null,
   "id": "a44535c3-ba72-4357-a09b-da80c6d300f6",
   "metadata": {},
   "outputs": [],
   "source": [
    "#Dan's cell"
   ]
  },
  {
   "cell_type": "code",
   "execution_count": null,
   "id": "acf280bb-e113-4567-9a3c-9b92c92ce329",
   "metadata": {},
   "outputs": [],
   "source": [
    "#Kai's cell"
   ]
  },
  {
   "cell_type": "code",
   "execution_count": null,
   "id": "53760832-2503-4f36-8f55-17cecaf8d724",
   "metadata": {},
   "outputs": [],
   "source": [
    "#Barish's cell"
   ]
  },
  {
   "cell_type": "code",
   "execution_count": null,
   "id": "ef835e6a-3a7e-4c3b-a904-6b723f181b08",
   "metadata": {},
   "outputs": [],
   "source": [
    "#Javi's cell"
   ]
  }
 ],
 "metadata": {
  "kernelspec": {
   "display_name": "Python 3 (ipykernel)",
   "language": "python",
   "name": "python3"
  },
  "language_info": {
   "codemirror_mode": {
    "name": "ipython",
    "version": 3
   },
   "file_extension": ".py",
   "mimetype": "text/x-python",
   "name": "python",
   "nbconvert_exporter": "python",
   "pygments_lexer": "ipython3",
   "version": "3.7.11"
  }
 },
 "nbformat": 4,
 "nbformat_minor": 5
}
