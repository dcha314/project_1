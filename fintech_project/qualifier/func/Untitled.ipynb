{
 "cells": [
  {
   "cell_type": "code",
   "execution_count": 2,
   "id": "a44535c3-ba72-4357-a09b-da80c6d300f6",
   "metadata": {},
   "outputs": [],
   "source": [
    "#Dan's cell\n",
    "\n",
    "#We need \n",
    "#1. std()\n",
    "#2."
   ]
  },
  {
   "cell_type": "code",
   "execution_count": null,
   "id": "acf280bb-e113-4567-9a3c-9b92c92ce329",
   "metadata": {},
   "outputs": [],
   "source": [
    "#Kai's cell"
   ]
  },
  {
   "cell_type": "code",
   "execution_count": null,
   "id": "53760832-2503-4f36-8f55-17cecaf8d724",
   "metadata": {},
   "outputs": [],
   "source": [
    "#Barish's cell\n"
   ]
  },
  {
   "cell_type": "code",
   "execution_count": null,
   "id": "1677d007-d681-47d2-90e1-e23dc0f52fc2",
   "metadata": {},
   "outputs": [],
   "source": [
    "\n",
    "event_2001 = event_2001.pivot(columns='ticker')\n",
    "event_2001\n",
    "print(event_2001.columns)\n",
    "event_2001.describe"
   ]
  },
  {
   "cell_type": "code",
   "execution_count": null,
   "id": "2d190efb-6a82-4e6e-807e-93b3c80fb43f",
   "metadata": {},
   "outputs": [],
   "source": [
    "# Calculate daily returns using the combined portfolio\n",
    "daily_returns_event_2001 = event_2001.pct_change().dropna()\n",
    "daily_returns_event_2001"
   ]
  },
  {
   "cell_type": "code",
   "execution_count": null,
   "id": "dc7857b9-b7ff-4226-b451-80cf94c5e78c",
   "metadata": {},
   "outputs": [],
   "source": [
    "# To calculate the annualized average return of event_2001,\n",
    "trading_days_event_2001 = 117\n",
    "average_annual_return__event_2001 = daily_returns_event_2001.mean() * trading_days_event_2001\n",
    "average_annual_return__event_2001"
   ]
  },
  {
   "cell_type": "code",
   "execution_count": null,
   "id": "e214169b-a113-4546-8eee-37d549cc5100",
   "metadata": {},
   "outputs": [],
   "source": [
    "# To calculate the annualized standard deviation,\n",
    "# multiply the standard deviation (std) for the daily_returns_a_b DataFrame\n",
    "# by the square root (np.sqrt) of the number of trading days in the year\n",
    "annual_std_dev_event_2001 = daily_returns_event_2001.std() * np.sqrt(trading_days_event_2001)\n",
    "annual_std_dev_event_2001"
   ]
  },
  {
   "cell_type": "code",
   "execution_count": null,
   "id": "bfc48883-2e57-41e1-836e-a521f061cdc2",
   "metadata": {},
   "outputs": [],
   "source": [
    "# Calculate Sharpe Ratio by dividing the average annual return by the standard deviation\n",
    "sharpe_ratios_event_2001 = average_annual_return__event_2001 / annual_std_dev_event_2001\n",
    "sharpe_ratios_event_2001"
   ]
  },
  {
   "cell_type": "code",
   "execution_count": null,
   "id": "66218a20-b829-4b03-a85b-4c8d9cee6cea",
   "metadata": {},
   "outputs": [],
   "source": [
    "# Plotting the sharp ratios for securities\n",
    "sharpe_ratios_event_2001.plot.bar(figsize=(15, 10), title=\"Sharpe Ratios\")\n",
    "# Plotting the daily returns for securities\n",
    "daily_returns_event_2001.plot(figsize=(25, 15), title=\"Daily Returns - Event 2001\")"
   ]
  },
  {
   "cell_type": "code",
   "execution_count": null,
   "id": "7678fb19-c7ab-498f-a20d-869d5ff9dd66",
   "metadata": {},
   "outputs": [],
   "source": []
  },
  {
   "cell_type": "code",
   "execution_count": null,
   "id": "ef835e6a-3a7e-4c3b-a904-6b723f181b08",
   "metadata": {},
   "outputs": [],
   "source": [
    "#Javi's cell"
   ]
  }
 ],
 "metadata": {
  "kernelspec": {
   "display_name": "Python 3 (ipykernel)",
   "language": "python",
   "name": "python3"
  },
  "language_info": {
   "codemirror_mode": {
    "name": "ipython",
    "version": 3
   },
   "file_extension": ".py",
   "mimetype": "text/x-python",
   "name": "python",
   "nbconvert_exporter": "python",
   "pygments_lexer": "ipython3",
   "version": "3.7.11"
  }
 },
 "nbformat": 4,
 "nbformat_minor": 5
}
