{
 "cells": [
  {
   "cell_type": "code",
   "execution_count": 3,
   "id": "3868fb9a-4aa1-4e80-915a-939588db4f97",
   "metadata": {},
   "outputs": [
    {
     "ename": "ModuleNotFoundError",
     "evalue": "No module named 'fire'",
     "output_type": "error",
     "traceback": [
      "\u001b[0;31m---------------------------------------------------------------------------\u001b[0m",
      "\u001b[0;31mModuleNotFoundError\u001b[0m                       Traceback (most recent call last)",
      "\u001b[0;32m/var/folders/7g/sph8h89s2hv0h_869sf2dzgh0000gn/T/ipykernel_26315/875629656.py\u001b[0m in \u001b[0;36m<module>\u001b[0;34m\u001b[0m\n\u001b[1;32m      3\u001b[0m \u001b[0;31m#CLI imports\u001b[0m\u001b[0;34m\u001b[0m\u001b[0;34m\u001b[0m\u001b[0;34m\u001b[0m\u001b[0m\n\u001b[1;32m      4\u001b[0m \u001b[0;32mimport\u001b[0m \u001b[0msys\u001b[0m\u001b[0;34m\u001b[0m\u001b[0;34m\u001b[0m\u001b[0m\n\u001b[0;32m----> 5\u001b[0;31m \u001b[0;32mimport\u001b[0m \u001b[0mfire\u001b[0m\u001b[0;34m\u001b[0m\u001b[0;34m\u001b[0m\u001b[0m\n\u001b[0m\u001b[1;32m      6\u001b[0m \u001b[0;32mimport\u001b[0m \u001b[0mcsv\u001b[0m\u001b[0;34m\u001b[0m\u001b[0;34m\u001b[0m\u001b[0m\n\u001b[1;32m      7\u001b[0m \u001b[0;32mimport\u001b[0m \u001b[0mquestionary\u001b[0m\u001b[0;34m\u001b[0m\u001b[0;34m\u001b[0m\u001b[0m\n",
      "\u001b[0;31mModuleNotFoundError\u001b[0m: No module named 'fire'"
     ]
    }
   ],
   "source": [
    "#Required libraries\n",
    "\n",
    "#CLI imports\n",
    "import sys\n",
    "import fire\n",
    "import csv\n",
    "import questionary\n",
    "from pathlib import Path\n",
    "from project_1.qualifier.utils.fileio import load_csv\n",
    "from project_1.qualifier.utils.save_csv import save_csv\n",
    "\n",
    "#Data imports\n",
    "\n",
    "import time\n",
    "import datetime\n",
    "import pandas as pd\n",
    "import yfinance as yf\n",
    "from yahoo_fin.stock_info import get_data\n",
    "import numpy as np"
   ]
  },
  {
   "cell_type": "code",
   "execution_count": null,
   "id": "09e69b78-b4ad-4306-b46c-15cfdfc6f434",
   "metadata": {
    "tags": []
   },
   "outputs": [],
   "source": [
    "#Dan's Cell\n",
    "\n",
    "def load_portfolio_weight():\n",
    "    \"\"\"Ask for the file path to the latest portfolio data and load the CSV file.\n",
    "    Returns:\n",
    "        The from the CSV file.\n",
    "    \"\"\"\n",
    "\n",
    "    csvpath = questionary.text(\"Enter a file path (.csv):\").ask()\n",
    "    csvpath = Path(csvpath)\n",
    "    if not csvpath.exists():\n",
    "        sys.exit(f\"Oops! Can't find this path: {csvpath}\")\n",
    "\n",
    "    return load_csv(csvpath)\n",
    "\n",
    "\n",
    "def get_portfolio_info():\n",
    "    \"\"\"Prompt dialog to get the applicant's financial information.\n",
    "    Returns:\n",
    "        Returns the applicant's financial information.\n",
    "    \"\"\"\n",
    "\n",
    "    commodities = questionary.text(\"What percentage of your portfolio is in commodities?\").ask()\n",
    "    gold = questionary.text(\"What percentage of your portfolio is in gold?\").ask()\n",
    "    real_estate = questionary.text(\"What percentage of your portfolio lies in real estate?\").ask()\n",
    "    equities = questionary.text(\"What's percentage of your portfolio is in equities?\").ask()\n",
    "    fixed_income = questionary.text(\"What's your monthly income?\").ask()\n",
    "\n",
    "    commodities = float(commodities)\n",
    "    gold = float(gold)\n",
    "    real_estate = float(real_estate)\n",
    "    equities = float(equities)\n",
    "    fixed_income = float(fixed_income)\n",
    "\n",
    "    return commodities, gold, real_estate, equities, fixed_income\n",
    "\n",
    "\n",
    "\n",
    "def run():\n",
    "    \"\"\"The main function for running the script.\"\"\"\n",
    "\n",
    "    # Load the latest data\n",
    "    portfolio_weight = load_portfolio_weight()\n",
    "\n",
    "    # Get the applicant's information\n",
    "    commodities, gold, real_estate, equities, fixed_income = get_portfolio_info()\n",
    "\n",
    "    # Add analysis functions here!\n",
    "    #Ex. std(), etc\n",
    "    \n",
    "    \n",
    "    # execute any miscellaneous functions here\n",
    "    \n",
    "    \n",
    "    # Print recommendations here\n",
    "\n",
    "\n",
    "if __name__ == \"__main__\":\n",
    "    fire.Fire(run)\n"
   ]
  },
  {
   "cell_type": "code",
   "execution_count": null,
   "id": "049a2031-feb4-4031-8ed5-2263dca22a82",
   "metadata": {},
   "outputs": [],
   "source": [
    "#Javier's Cell"
   ]
  },
  {
   "cell_type": "code",
   "execution_count": null,
   "id": "69dc5b70-1c65-4036-b5ac-f50528ac78a4",
   "metadata": {},
   "outputs": [],
   "source": [
    "#Kai's Cell"
   ]
  },
  {
   "cell_type": "code",
   "execution_count": null,
   "id": "04ac7aad-0961-4e8f-8d82-343387227e39",
   "metadata": {},
   "outputs": [],
   "source": [
    "#Barish's Cell"
   ]
  },
  {
   "cell_type": "code",
   "execution_count": null,
   "id": "6699b978-66c4-403d-b04f-af131eec0326",
   "metadata": {},
   "outputs": [],
   "source": []
  }
 ],
 "metadata": {
  "kernelspec": {
   "display_name": "Python 3 (ipykernel)",
   "language": "python",
   "name": "python3"
  },
  "language_info": {
   "codemirror_mode": {
    "name": "ipython",
    "version": 3
   },
   "file_extension": ".py",
   "mimetype": "text/x-python",
   "name": "python",
   "nbconvert_exporter": "python",
   "pygments_lexer": "ipython3",
   "version": "3.7.11"
  }
 },
 "nbformat": 4,
 "nbformat_minor": 5
}
